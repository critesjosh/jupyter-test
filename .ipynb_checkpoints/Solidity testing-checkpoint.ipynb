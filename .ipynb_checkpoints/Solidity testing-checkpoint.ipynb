{
 "cells": [
  {
   "cell_type": "code",
   "execution_count": 1,
   "metadata": {},
   "outputs": [],
   "source": [
    "let solc = require('solc')"
   ]
  },
  {
   "cell_type": "code",
   "execution_count": 2,
   "metadata": {},
   "outputs": [
    {
     "data": {
      "text/plain": [
       "{ version: [Function],\n",
       "  semver: [Function: versionToSemver],\n",
       "  license: [Function],\n",
       "  lowlevel:\n",
       "   { compileSingle: null,\n",
       "     compileMulti: null,\n",
       "     compileCallback: null,\n",
       "     compileStandard: [Function: compileStandard] },\n",
       "  features:\n",
       "   { legacySingleInput: false,\n",
       "     multipleInputs: true,\n",
       "     importCallback: true,\n",
       "     nativeStandardJSON: true },\n",
       "  compile: [Function: compileStandardWrapper],\n",
       "  compileStandard: [Function: compileStandardWrapper],\n",
       "  compileStandardWrapper: [Function: compileStandardWrapper],\n",
       "  loadRemoteVersion: [Function: loadRemoteVersion],\n",
       "  setupMethods: [Function: setupMethods] }"
      ]
     },
     "execution_count": 2,
     "metadata": {},
     "output_type": "execute_result"
    }
   ],
   "source": [
    "solc"
   ]
  },
  {
   "cell_type": "code",
   "execution_count": 3,
   "metadata": {},
   "outputs": [],
   "source": [
    "var contract = `\n",
    "pragma solidity ^0.5.0;\n",
    "\n",
    "contract SimpleStorage {\n",
    "    uint public x;\n",
    "    \n",
    "    function setX(uint _x) {\n",
    "        x =_x;\n",
    "    }\n",
    "}\n",
    "`"
   ]
  },
  {
   "cell_type": "code",
   "execution_count": 4,
   "metadata": {},
   "outputs": [
    {
     "name": "stdout",
     "output_type": "stream",
     "text": [
      "\n",
      "pragma solidity ^0.5.0;\n",
      "\n",
      "contract SimpleStorage {\n",
      "    uint public x;\n",
      "    \n",
      "    function setX(uint _x) {\n",
      "        \n",
      "    }\n",
      "}\n",
      "\n"
     ]
    }
   ],
   "source": []
  },
  {
   "cell_type": "code",
   "execution_count": null,
   "metadata": {},
   "outputs": [],
   "source": []
  }
 ],
 "metadata": {
  "kernelspec": {
   "display_name": "Javascript (Node.js)",
   "language": "javascript",
   "name": "javascript"
  },
  "language_info": {
   "file_extension": ".js",
   "mimetype": "application/javascript",
   "name": "javascript",
   "version": "11.7.0"
  }
 },
 "nbformat": 4,
 "nbformat_minor": 2
}
