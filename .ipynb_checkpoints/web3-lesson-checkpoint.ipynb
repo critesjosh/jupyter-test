{
 "cells": [
  {
   "cell_type": "markdown",
   "metadata": {},
   "source": [
    "# Using the web3.js library"
   ]
  },
  {
   "cell_type": "markdown",
   "metadata": {},
   "source": [
    "In this lesson we will be going over how to use the web3.js libarary to connect to a locally running instance of a development blockchain using ganache-cli. [You can learn more about Ganache here.](https://truffleframework.com/ganache)"
   ]
  },
  {
   "cell_type": "markdown",
   "metadata": {},
   "source": [
    "Make sure that you have ganache-cli installed on you machine. You can check this by running \n",
    "\n",
    "```sh\n",
    "$ ganache-cli --version\n",
    "``` \n",
    "\n",
    "You can also run development chain using Ganache GUI, just be cognizant of the port that the development chain is running on. Ganache-cli defaults to 8545, Ganache GUI defaults to 7545.\n",
    "\n",
    "Once the development chain is up an running, we can connect to it. "
   ]
  },
  {
   "cell_type": "markdown",
   "metadata": {},
   "source": [
    "Just to note, we have already installed web3 via npm in this notebook directory, so it is available for us to import in this notebook."
   ]
  },
  {
   "cell_type": "code",
   "execution_count": 1,
   "metadata": {},
   "outputs": [],
   "source": [
    "const Web3 = require('web3')"
   ]
  },
  {
   "cell_type": "markdown",
   "metadata": {},
   "source": [
    "Now that web3 is imported, we can use it to connect to our development chain."
   ]
  },
  {
   "cell_type": "code",
   "execution_count": 2,
   "metadata": {},
   "outputs": [],
   "source": [
    "const web3 = new Web3('http://localhost:8545')"
   ]
  },
  {
   "cell_type": "markdown",
   "metadata": {},
   "source": [
    "Let's check that are connection is successful and see what accounts are made available by ganache. Many web3 functions return [Promises](https://developer.mozilla.org/en-US/docs/Web/JavaScript/Reference/Global_Objects/Promise) so we have to wait for the promise to resolve before using the result. This is why we use the `.then()` syntax. "
   ]
  },
  {
   "cell_type": "code",
   "execution_count": 1,
   "metadata": {
    "scrolled": true
   },
   "outputs": [
    {
     "ename": "ReferenceError",
     "evalue": "web3 is not defined",
     "output_type": "error",
     "traceback": [
      "evalmachine.<anonymous>:2",
      "web3.eth.getAccounts()",
      "^",
      "",
      "ReferenceError: web3 is not defined",
      "    at evalmachine.<anonymous>:2:1",
      "    at Script.runInThisContext (vm.js:123:20)",
      "    at Object.runInThisContext (vm.js:312:38)",
      "    at run ([eval]:1002:15)",
      "    at onRunRequest ([eval]:829:18)",
      "    at onMessage ([eval]:789:13)",
      "    at process.emit (events.js:188:13)",
      "    at emit (internal/child_process.js:828:12)",
      "    at processTicksAndRejections (internal/process/next_tick.js:76:17)"
     ]
    }
   ],
   "source": [
    "let accounts\n",
    "web3.eth.getAccounts()\n",
    "    .then(_accounts => { \n",
    "        accounts = _accounts \n",
    "        console.log(\"Accounts:\", accounts) \n",
    "    })"
   ]
  },
  {
   "cell_type": "markdown",
   "metadata": {},
   "source": [
    "We can get the balance of each account with the `web3.eth.getBalance()` function. The returned result is in wei. With 10^18 wei per ether, the following result of 100 ether has a lot of zeros."
   ]
  },
  {
   "cell_type": "code",
   "execution_count": 4,
   "metadata": {
    "scrolled": false
   },
   "outputs": [
    {
     "ename": "TypeError",
     "evalue": "Cannot read property '0' of undefined",
     "output_type": "error",
     "traceback": [
      "evalmachine.<anonymous>:1",
      "web3.eth.getBalance(accounts[0]).then(",
      "                            ^",
      "",
      "TypeError: Cannot read property '0' of undefined",
      "    at evalmachine.<anonymous>:1:29",
      "    at Script.runInThisContext (vm.js:123:20)",
      "    at Object.runInThisContext (vm.js:312:38)",
      "    at run ([eval]:1002:15)",
      "    at onRunRequest ([eval]:829:18)",
      "    at onMessage ([eval]:789:13)",
      "    at process.emit (events.js:188:13)",
      "    at emit (internal/child_process.js:828:12)",
      "    at processTicksAndRejections (internal/process/next_tick.js:76:17)"
     ]
    }
   ],
   "source": [
    "web3.eth.getBalance(accounts[0]).then(\n",
    "    console.log\n",
    ")"
   ]
  },
  {
   "cell_type": "markdown",
   "metadata": {},
   "source": [
    "We can convert the balance in wei to the balance in eth using the utility funciont `fromWei()`."
   ]
  },
  {
   "cell_type": "code",
   "execution_count": 5,
   "metadata": {},
   "outputs": [
    {
     "ename": "TypeError",
     "evalue": "Cannot read property '0' of undefined",
     "output_type": "error",
     "traceback": [
      "evalmachine.<anonymous>:1",
      "web3.eth.getBalance(accounts[0]).then(_result => {",
      "                            ^",
      "",
      "TypeError: Cannot read property '0' of undefined",
      "    at evalmachine.<anonymous>:1:29",
      "    at Script.runInThisContext (vm.js:123:20)",
      "    at Object.runInThisContext (vm.js:312:38)",
      "    at run ([eval]:1002:15)",
      "    at onRunRequest ([eval]:829:18)",
      "    at onMessage ([eval]:789:13)",
      "    at process.emit (events.js:188:13)",
      "    at emit (internal/child_process.js:828:12)",
      "    at processTicksAndRejections (internal/process/next_tick.js:76:17)"
     ]
    }
   ],
   "source": [
    "web3.eth.getBalance(accounts[0]).then(_result => {\n",
    "    console.log(web3.utils.fromWei(_result, \"ether\"))\n",
    "})"
   ]
  },
  {
   "cell_type": "code",
   "execution_count": null,
   "metadata": {},
   "outputs": [],
   "source": []
  }
 ],
 "metadata": {
  "kernelspec": {
   "display_name": "Javascript (Node.js)",
   "language": "javascript",
   "name": "javascript"
  },
  "language_info": {
   "file_extension": ".js",
   "mimetype": "application/javascript",
   "name": "javascript",
   "version": "11.7.0"
  }
 },
 "nbformat": 4,
 "nbformat_minor": 2
}
