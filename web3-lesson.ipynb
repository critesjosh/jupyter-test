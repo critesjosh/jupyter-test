{
 "cells": [
  {
   "cell_type": "markdown",
   "metadata": {},
   "source": [
    "# Using the web3.js library"
   ]
  },
  {
   "cell_type": "markdown",
   "metadata": {},
   "source": [
    "In this lesson we will be going over how to use the web3.js libarary to connect to a locally running instance of a development blockchain using ganache-cli. [You can learn more about Ganache here.](https://truffleframework.com/ganache)"
   ]
  },
  {
   "cell_type": "markdown",
   "metadata": {},
   "source": [
    "Make sure that you have ganache-cli installed on you machine. You can check this by running \n",
    "\n",
    "```sh\n",
    "$ ganache-cli --version\n",
    "``` \n",
    "\n",
    "You can also run development chain using Ganache GUI, just be cognizant of the port that the development chain is running on. Ganache-cli defaults to 8545, Ganache GUI defaults to 7545.\n",
    "\n",
    "Once the development chain is up an running, we can connect to it. "
   ]
  },
  {
   "cell_type": "markdown",
   "metadata": {},
   "source": [
    "Just to note, we have already installed web3 via npm in this notebook directory, so it is available for us to import in this notebook. Also, we will be declaring all variables in javascript in this notebook withe the `var` keyword. Using the `const` keyword is preferred, but this can cause errors when running code cells multiple times, so we use `var` to avoid these errors."
   ]
  },
  {
   "cell_type": "code",
   "execution_count": 8,
   "metadata": {},
   "outputs": [],
   "source": [
    "var Web3 = require('web3')"
   ]
  },
  {
   "cell_type": "markdown",
   "metadata": {},
   "source": [
    "Now that web3 is imported, we can use it to connect to our development chain."
   ]
  },
  {
   "cell_type": "code",
   "execution_count": 7,
   "metadata": {},
   "outputs": [],
   "source": [
    "var web3 = new Web3('http://localhost:8545')"
   ]
  },
  {
   "cell_type": "markdown",
   "metadata": {},
   "source": [
    "Let's check that are connection is successful and see what accounts are made available by ganache. Many web3 functions return [Promises](https://developer.mozilla.org/en-US/docs/Web/JavaScript/Reference/Global_Objects/Promise) so we have to wait for the promise to resolve before using the result. This is why we use the `.then()` syntax. "
   ]
  },
  {
   "cell_type": "code",
   "execution_count": 6,
   "metadata": {
    "collapsed": true
   },
   "outputs": [
    {
     "name": "stdout",
     "output_type": "stream",
     "text": [
      "Accounts: [ '0xF1Ec93816d02af9098E928C57Ca311118AB4E544',\n",
      "  '0xaeeFA2E7f619cFD2f296b53989C76b82dE72497A',\n",
      "  '0xf5233368CFb6be8F8b34F7302b09863c597C9B27',\n",
      "  '0x86b89Bf4f90ce79e7e080274fe787952B9d0A8be',\n",
      "  '0xb81524Ad92cFbf4Cb3350023dB519aFb38513d46',\n",
      "  '0x502047240DFD2f1e8672674349f6F5C7a7539874',\n",
      "  '0x6aCD4EC30fd8fcf9F9876ebAb783E19E8C927569',\n",
      "  '0xf0711CB1a08C0a61341Ca7c607e2F8f0aC92B491',\n",
      "  '0x5E700Ba5b88263F924eebaA05E093F5c75742b8A',\n",
      "  '0xE3f16F1328aDb6767a5cb7431db457Fed01889Ad' ]\n"
     ]
    }
   ],
   "source": [
    "var accounts\n",
    "web3.eth.getAccounts()\n",
    "    .then(_accounts => { \n",
    "        accounts = _accounts \n",
    "        console.log(\"Accounts:\", accounts) \n",
    "    })"
   ]
  },
  {
   "cell_type": "markdown",
   "metadata": {},
   "source": [
    "We can get the balance of each account with the `web3.eth.getBalance()` function. The returned result is in wei. With 10^18 wei per ether, the following result of 100 ether has a lot of zeros."
   ]
  },
  {
   "cell_type": "code",
   "execution_count": 9,
   "metadata": {
    "collapsed": true
   },
   "outputs": [
    {
     "name": "stdout",
     "output_type": "stream",
     "text": [
      "100000000000000000000\n"
     ]
    }
   ],
   "source": [
    "web3.eth.getBalance(accounts[0]).then(\n",
    "    console.log\n",
    ")"
   ]
  },
  {
   "cell_type": "markdown",
   "metadata": {},
   "source": [
    "We can convert the balance in wei to the balance in eth using the utility funciont `fromWei()`."
   ]
  },
  {
   "cell_type": "code",
   "execution_count": 10,
   "metadata": {
    "collapsed": true
   },
   "outputs": [
    {
     "name": "stdout",
     "output_type": "stream",
     "text": [
      "100\n"
     ]
    }
   ],
   "source": [
    "web3.eth.getBalance(accounts[0]).then(_result => {\n",
    "    console.log(web3.utils.fromWei(_result, \"ether\"))\n",
    "})"
   ]
  },
  {
   "cell_type": "code",
   "execution_count": null,
   "metadata": {},
   "outputs": [],
   "source": []
  }
 ],
 "metadata": {
  "kernelspec": {
   "display_name": "Javascript (Node.js)",
   "language": "javascript",
   "name": "javascript"
  },
  "language_info": {
   "file_extension": ".js",
   "mimetype": "application/javascript",
   "name": "javascript",
   "version": "11.7.0"
  }
 },
 "nbformat": 4,
 "nbformat_minor": 2
}
