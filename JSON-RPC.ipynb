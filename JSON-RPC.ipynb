{
 "cells": [
  {
   "cell_type": "code",
   "execution_count": 1,
   "metadata": {},
   "outputs": [
    {
     "name": "stdout",
     "output_type": "stream",
     "text": [
      "{ id: 1,\n",
      "  jsonrpc: '2.0',\n",
      "  result:\n",
      "   [ '0xb93ef5072824c54af5120e12ae3eeaac8cfa6e29',\n",
      "     '0xfb90e69a5957eefdbe9aa4eb1a2a91fd07199573',\n",
      "     '0xdf7321b49d5cfd2c6d1a8fd2ac21e986b1739313',\n",
      "     '0x0ebe2948d3ce6d93b6d7494778151d2382b96201',\n",
      "     '0x5cfed19ad4b45ad0ab34bc3414dd3c687be340af',\n",
      "     '0xd95f105177592426bfec453fd2c828f5863b4d01',\n",
      "     '0x660c22e55158f0955b73900a217f76f75762477e',\n",
      "     '0x4b933b5f0e358703d649dd54ae6c5001639430fb',\n",
      "     '0x32590b9f904566adc078726400baa3a506322931',\n",
      "     '0xdf20fe7349d358d9be5c8094ed0cf79ea137d7f8' ] }\n"
     ]
    }
   ],
   "source": [
    "const axios = require('axios') \n",
    "\n",
    "let JSONrequest = '{\"jsonrpc\":\"2.0\",\"method\":\"eth_accounts\",\"params\":[],\"id\":1}'\n",
    "\n",
    "  // Try changing this endpoint to an Infura node or another public facing client\n",
    "let endpoint = 'http://localhost:8545'\n",
    "\n",
    "axios.post(endpoint, JSONrequest)\n",
    "    .then(response => console.log(response.data))"
   ]
  },
  {
   "cell_type": "code",
   "execution_count": null,
   "metadata": {},
   "outputs": [],
   "source": []
  }
 ],
 "metadata": {
  "kernelspec": {
   "display_name": "Javascript (Node.js)",
   "language": "javascript",
   "name": "javascript"
  },
  "language_info": {
   "file_extension": ".js",
   "mimetype": "application/javascript",
   "name": "javascript",
   "version": "11.7.0"
  }
 },
 "nbformat": 4,
 "nbformat_minor": 2
}
