{
 "cells": [
  {
   "cell_type": "markdown",
   "metadata": {},
   "source": [
    "# Using the web3.js library"
   ]
  },
  {
   "cell_type": "markdown",
   "metadata": {},
   "source": [
    "In this lesson we will be going over how to use the web3.js libarary to connect to a locally running instance of a development blockchain using ganache-cli."
   ]
  },
  {
   "cell_type": "markdown",
   "metadata": {},
   "source": [
    "Make sure that you have ganache-cli installed on you machine. You can check this by running `ganache-cli --version`. You can also run development chain using Ganache GUI, just be cognizant of the port that the development chain is running on. Ganache-cli defaults to 8545, Ganache GUI defaults to 7545.\n",
    "\n",
    "Once the development chain is up an running, we can connect to it. "
   ]
  },
  {
   "cell_type": "markdown",
   "metadata": {},
   "source": [
    "Just to note, we have already installed web3 via npm in this notebook directory, so it is available for us to import in this notebook."
   ]
  },
  {
   "cell_type": "code",
   "execution_count": 1,
   "metadata": {},
   "outputs": [],
   "source": [
    "const Web3 = require('web3')"
   ]
  },
  {
   "cell_type": "markdown",
   "metadata": {},
   "source": [
    "Now that web3 is imported, we can use it to connect to our development chain."
   ]
  },
  {
   "cell_type": "code",
   "execution_count": 2,
   "metadata": {},
   "outputs": [],
   "source": [
    "const web3 = new Web3('http://localhost:8545')"
   ]
  },
  {
   "cell_type": "markdown",
   "metadata": {},
   "source": [
    "Let's check that are connection is successful and see what accounts are made available by ganache."
   ]
  },
  {
   "cell_type": "code",
   "execution_count": 3,
   "metadata": {},
   "outputs": [
    {
     "name": "stdout",
     "output_type": "stream",
     "text": [
      "[ '0x92b6b6708D9DbF18Be56688a0fb822283ac74F4c',\n",
      "  '0xB1FDE5248FD5666277f04f92B76466c631C32fbA',\n",
      "  '0xe45cFD7E17983cfd14d239A69B069E1C5508dc2f',\n",
      "  '0x64b2f6C19BfCed4b214491da1ecF272c93E9e1CB',\n",
      "  '0x5e821180d1EeacfE842CA04080871441ddCFccfC',\n",
      "  '0x9Fad646144AFE77D925995EaBA37dE1336Ad746F',\n",
      "  '0x0bF78C3A4C434C3302e50C4B7fa71A0764b2f2A4',\n",
      "  '0x39B666b3C721F99447876DcC23847D8b3b988238',\n",
      "  '0xc52856BBde251D603e8cA8F45f2E0156eF2fF1e5',\n",
      "  '0xF1d99Db9F9C1814Ac04bCF181c9BaD7B7101C1B8' ]\n"
     ]
    }
   ],
   "source": [
    "let accounts\n",
    "web3.eth.getAccounts()\n",
    "    .then(_accounts => { \n",
    "        accounts = _accounts \n",
    "        console.log(accounts) \n",
    "    })"
   ]
  },
  {
   "cell_type": "code",
   "execution_count": 4,
   "metadata": {
    "scrolled": false
   },
   "outputs": [
    {
     "name": "stdout",
     "output_type": "stream",
     "text": [
      "100000000000000000000\n"
     ]
    }
   ],
   "source": [
    "web3.eth.getBalance(accounts[0]).then(console.log)"
   ]
  },
  {
   "cell_type": "code",
   "execution_count": null,
   "metadata": {},
   "outputs": [],
   "source": []
  }
 ],
 "metadata": {
  "kernelspec": {
   "display_name": "Javascript (Node.js)",
   "language": "javascript",
   "name": "javascript"
  },
  "language_info": {
   "file_extension": ".js",
   "mimetype": "application/javascript",
   "name": "javascript",
   "version": "11.7.0"
  }
 },
 "nbformat": 4,
 "nbformat_minor": 2
}
