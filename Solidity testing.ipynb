{
 "cells": [
  {
   "cell_type": "code",
   "execution_count": 1,
   "metadata": {},
   "outputs": [],
   "source": [
    "let solc = require('solc')"
   ]
  },
  {
   "cell_type": "code",
   "execution_count": 23,
   "metadata": {},
   "outputs": [],
   "source": [
    "var contract = `\n",
    "pragma solidity ^0.5.0;\n",
    "\n",
    "contract SimpleStorage {\n",
    "    uint public x;\n",
    "    \n",
    "    function setX(uint _x) public {\n",
    "        x =_x;\n",
    "    }\n",
    "}\n",
    "`"
   ]
  },
  {
   "cell_type": "code",
   "execution_count": 24,
   "metadata": {},
   "outputs": [
    {
     "data": {
      "text/plain": [
       "{ 'SimpleStorage.sol':\n",
       "   { content:\n",
       "      '\\npragma solidity ^0.5.0;\\n\\ncontract SimpleStorage {\\n    uint public x;\\n    \\n    function setX(uint _x) public {\\n        x =_x;\\n    }\\n}\\n' } }"
      ]
     },
     "execution_count": 24,
     "metadata": {},
     "output_type": "execute_result"
    }
   ],
   "source": [
    "var input = {\n",
    "    language: 'Solidity',\n",
    "    settings: {\n",
    "        outputSelection: {\n",
    "            '*': {\n",
    "                '*': [ '*' ]\n",
    "            }\n",
    "        }\n",
    "    }\n",
    "}\n",
    "\n",
    "input.sources = {\n",
    "    'SimpleStorage.sol': {\n",
    "        content: contract\n",
    "    }\n",
    "}\n",
    "\n",
    "var output = JSON.parse(solc.compile(JSON.stringify(input)))"
   ]
  },
  {
   "cell_type": "code",
   "execution_count": 21,
   "metadata": {},
   "outputs": [
    {
     "name": "stdout",
     "output_type": "stream",
     "text": [
      "{ abi:\n",
      "   [ { constant: true,\n",
      "       inputs: [],\n",
      "       name: 'x',\n",
      "       outputs: [Array],\n",
      "       payable: false,\n",
      "       stateMutability: 'view',\n",
      "       type: 'function' },\n",
      "     { constant: false,\n",
      "       inputs: [Array],\n",
      "       name: 'setX',\n",
      "       outputs: [],\n",
      "       payable: false,\n",
      "       stateMutability: 'nonpayable',\n",
      "       type: 'function' } ],\n",
      "  devdoc: { methods: {} },\n",
      "  evm:\n",
      "   { assembly:\n",
      "      '    /* \"SimpleStorage.sol\":26:133  contract SimpleStorage {... */\\n  mstore(0x40, 0x80)\\n  callvalue\\n    /* \"--CODEGEN--\":8:17   */\\n  dup1\\n    /* \"--CODEGEN--\":5:7   */\\n  iszero\\n  tag_1\\n  jumpi\\n    /* \"--CODEGEN--\":30:31   */\\n  0x00\\n    /* \"--CODEGEN--\":27:28   */\\n  dup1\\n    /* \"--CODEGEN--\":20:32   */\\n  revert\\n    /* \"--CODEGEN--\":5:7   */\\ntag_1:\\n    /* \"SimpleStorage.sol\":26:133  contract SimpleStorage {... */\\n  pop\\n  dataSize(sub_0)\\n  dup1\\n  dataOffset(sub_0)\\n  0x00\\n  codecopy\\n  0x00\\n  return\\nstop\\n\\nsub_0: assembly {\\n        /* \"SimpleStorage.sol\":26:133  contract SimpleStorage {... */\\n      mstore(0x40, 0x80)\\n      callvalue\\n        /* \"--CODEGEN--\":8:17   */\\n      dup1\\n        /* \"--CODEGEN--\":5:7   */\\n      iszero\\n      tag_1\\n      jumpi\\n        /* \"--CODEGEN--\":30:31   */\\n      0x00\\n        /* \"--CODEGEN--\":27:28   */\\n      dup1\\n        /* \"--CODEGEN--\":20:32   */\\n      revert\\n        /* \"--CODEGEN--\":5:7   */\\n    tag_1:\\n        /* \"SimpleStorage.sol\":26:133  contract SimpleStorage {... */\\n      pop\\n      jumpi(tag_2, lt(calldatasize, 0x04))\\n      calldataload(0x00)\\n      0x0100000000000000000000000000000000000000000000000000000000\\n      swap1\\n      div\\n      dup1\\n      0x0c55699c\\n      eq\\n      tag_3\\n      jumpi\\n      dup1\\n      0x4018d9aa\\n      eq\\n      tag_4\\n      jumpi\\n    tag_2:\\n      0x00\\n      dup1\\n      revert\\n        /* \"SimpleStorage.sol\":55:68  uint public x */\\n    tag_3:\\n      tag_5\\n      tag_6\\n      jump\\t// in\\n    tag_5:\\n      mload(0x40)\\n      dup1\\n      dup3\\n      dup2\\n      mstore\\n      0x20\\n      add\\n      swap2\\n      pop\\n      pop\\n      mload(0x40)\\n      dup1\\n      swap2\\n      sub\\n      swap1\\n      return\\n        /* \"SimpleStorage.sol\":79:131  function setX(uint _x) public {... */\\n    tag_4:\\n      tag_7\\n      0x04\\n      dup1\\n      calldatasize\\n      sub\\n        /* \"--CODEGEN--\":13:15   */\\n      0x20\\n        /* \"--CODEGEN--\":8:11   */\\n      dup2\\n        /* \"--CODEGEN--\":5:16   */\\n      lt\\n        /* \"--CODEGEN--\":2:4   */\\n      iszero\\n      tag_8\\n      jumpi\\n        /* \"--CODEGEN--\":29:30   */\\n      0x00\\n        /* \"--CODEGEN--\":26:27   */\\n      dup1\\n        /* \"--CODEGEN--\":19:31   */\\n      revert\\n        /* \"--CODEGEN--\":2:4   */\\n    tag_8:\\n        /* \"SimpleStorage.sol\":79:131  function setX(uint _x) public {... */\\n      dup2\\n      add\\n      swap1\\n      dup1\\n      dup1\\n      calldataload\\n      swap1\\n      0x20\\n      add\\n      swap1\\n      swap3\\n      swap2\\n      swap1\\n      pop\\n      pop\\n      pop\\n      tag_9\\n      jump\\t// in\\n    tag_7:\\n      stop\\n        /* \"SimpleStorage.sol\":55:68  uint public x */\\n    tag_6:\\n      sload(0x00)\\n      dup2\\n      jump\\t// out\\n        /* \"SimpleStorage.sol\":79:131  function setX(uint _x) public {... */\\n    tag_9:\\n        /* \"SimpleStorage.sol\":122:124  _x */\\n      dup1\\n        /* \"SimpleStorage.sol\":119:120  x */\\n      0x00\\n        /* \"SimpleStorage.sol\":119:124  x =_x */\\n      dup2\\n      swap1\\n      sstore\\n      pop\\n        /* \"SimpleStorage.sol\":79:131  function setX(uint _x) public {... */\\n      pop\\n      jump\\t// out\\n\\n    auxdata: 0xa165627a7a72305820de7913abfdce2c9292c62602e46ec6022bb79d2254e7f6e24d7750e5f0766c780029\\n}\\n',\n",
      "     bytecode:\n",
      "      { linkReferences: {},\n",
      "        object:\n",
      "         '608060405234801561001057600080fd5b5060d78061001f6000396000f3fe6080604052348015600f57600080fd5b5060043610604f576000357c0100000000000000000000000000000000000000000000000000000000900480630c55699c1460545780634018d9aa146070575b600080fd5b605a609b565b6040518082815260200191505060405180910390f35b609960048036036020811015608457600080fd5b810190808035906020019092919050505060a1565b005b60005481565b806000819055505056fea165627a7a72305820de7913abfdce2c9292c62602e46ec6022bb79d2254e7f6e24d7750e5f0766c780029',\n",
      "        opcodes:\n",
      "         'PUSH1 0x80 PUSH1 0x40 MSTORE CALLVALUE DUP1 ISZERO PUSH2 0x10 JUMPI PUSH1 0x0 DUP1 REVERT JUMPDEST POP PUSH1 0xD7 DUP1 PUSH2 0x1F PUSH1 0x0 CODECOPY PUSH1 0x0 RETURN INVALID PUSH1 0x80 PUSH1 0x40 MSTORE CALLVALUE DUP1 ISZERO PUSH1 0xF JUMPI PUSH1 0x0 DUP1 REVERT JUMPDEST POP PUSH1 0x4 CALLDATASIZE LT PUSH1 0x4F JUMPI PUSH1 0x0 CALLDATALOAD PUSH29 0x100000000000000000000000000000000000000000000000000000000 SWAP1 DIV DUP1 PUSH4 0xC55699C EQ PUSH1 0x54 JUMPI DUP1 PUSH4 0x4018D9AA EQ PUSH1 0x70 JUMPI JUMPDEST PUSH1 0x0 DUP1 REVERT JUMPDEST PUSH1 0x5A PUSH1 0x9B JUMP JUMPDEST PUSH1 0x40 MLOAD DUP1 DUP3 DUP2 MSTORE PUSH1 0x20 ADD SWAP2 POP POP PUSH1 0x40 MLOAD DUP1 SWAP2 SUB SWAP1 RETURN JUMPDEST PUSH1 0x99 PUSH1 0x4 DUP1 CALLDATASIZE SUB PUSH1 0x20 DUP2 LT ISZERO PUSH1 0x84 JUMPI PUSH1 0x0 DUP1 REVERT JUMPDEST DUP2 ADD SWAP1 DUP1 DUP1 CALLDATALOAD SWAP1 PUSH1 0x20 ADD SWAP1 SWAP3 SWAP2 SWAP1 POP POP POP PUSH1 0xA1 JUMP JUMPDEST STOP JUMPDEST PUSH1 0x0 SLOAD DUP2 JUMP JUMPDEST DUP1 PUSH1 0x0 DUP2 SWAP1 SSTORE POP POP JUMP INVALID LOG1 PUSH6 0x627A7A723058 KECCAK256 0xde PUSH26 0x13ABFDCE2C9292C62602E46EC6022BB79D2254E7F6E24D7750E5 CREATE PUSH23 0x6C78002900000000000000000000000000000000000000 ',\n",
      "        sourceMap:\n",
      "         '26:107:0:-;;;;8:9:-1;5:2;;;30:1;27;20:12;5:2;26:107:0;;;;;;;' },\n",
      "     deployedBytecode:\n",
      "      { linkReferences: {},\n",
      "        object:\n",
      "         '6080604052348015600f57600080fd5b5060043610604f576000357c0100000000000000000000000000000000000000000000000000000000900480630c55699c1460545780634018d9aa146070575b600080fd5b605a609b565b6040518082815260200191505060405180910390f35b609960048036036020811015608457600080fd5b810190808035906020019092919050505060a1565b005b60005481565b806000819055505056fea165627a7a72305820de7913abfdce2c9292c62602e46ec6022bb79d2254e7f6e24d7750e5f0766c780029',\n",
      "        opcodes:\n",
      "         'PUSH1 0x80 PUSH1 0x40 MSTORE CALLVALUE DUP1 ISZERO PUSH1 0xF JUMPI PUSH1 0x0 DUP1 REVERT JUMPDEST POP PUSH1 0x4 CALLDATASIZE LT PUSH1 0x4F JUMPI PUSH1 0x0 CALLDATALOAD PUSH29 0x100000000000000000000000000000000000000000000000000000000 SWAP1 DIV DUP1 PUSH4 0xC55699C EQ PUSH1 0x54 JUMPI DUP1 PUSH4 0x4018D9AA EQ PUSH1 0x70 JUMPI JUMPDEST PUSH1 0x0 DUP1 REVERT JUMPDEST PUSH1 0x5A PUSH1 0x9B JUMP JUMPDEST PUSH1 0x40 MLOAD DUP1 DUP3 DUP2 MSTORE PUSH1 0x20 ADD SWAP2 POP POP PUSH1 0x40 MLOAD DUP1 SWAP2 SUB SWAP1 RETURN JUMPDEST PUSH1 0x99 PUSH1 0x4 DUP1 CALLDATASIZE SUB PUSH1 0x20 DUP2 LT ISZERO PUSH1 0x84 JUMPI PUSH1 0x0 DUP1 REVERT JUMPDEST DUP2 ADD SWAP1 DUP1 DUP1 CALLDATALOAD SWAP1 PUSH1 0x20 ADD SWAP1 SWAP3 SWAP2 SWAP1 POP POP POP PUSH1 0xA1 JUMP JUMPDEST STOP JUMPDEST PUSH1 0x0 SLOAD DUP2 JUMP JUMPDEST DUP1 PUSH1 0x0 DUP2 SWAP1 SSTORE POP POP JUMP INVALID LOG1 PUSH6 0x627A7A723058 KECCAK256 0xde PUSH26 0x13ABFDCE2C9292C62602E46EC6022BB79D2254E7F6E24D7750E5 CREATE PUSH23 0x6C78002900000000000000000000000000000000000000 ',\n",
      "        sourceMap:\n",
      "         '26:107:0:-;;;;8:9:-1;5:2;;;30:1;27;20:12;5:2;26:107:0;;;;;;;;;;;;;;;;;;;;;;;;;55:13;;;:::i;:::-;;;;;;;;;;;;;;;;;;;79:52;;;;;;13:2:-1;8:3;5:11;2:2;;;29:1;26;19:12;2:2;79:52:0;;;;;;;;;;;;;;;;;:::i;:::-;;55:13;;;;:::o;79:52::-;122:2;119:1;:5;;;;79:52;:::o' },\n",
      "     gasEstimates: { creation: [Object], external: [Object] },\n",
      "     legacyAssembly: { '.code': [Array], '.data': [Object] },\n",
      "     methodIdentifiers: { 'setX(uint256)': '4018d9aa', 'x()': '0c55699c' } },\n",
      "  metadata:\n",
      "   '{\"compiler\":{\"version\":\"0.5.3+commit.10d17f24\"},\"language\":\"Solidity\",\"output\":{\"abi\":[{\"constant\":true,\"inputs\":[],\"name\":\"x\",\"outputs\":[{\"name\":\"\",\"type\":\"uint256\"}],\"payable\":false,\"stateMutability\":\"view\",\"type\":\"function\"},{\"constant\":false,\"inputs\":[{\"name\":\"_x\",\"type\":\"uint256\"}],\"name\":\"setX\",\"outputs\":[],\"payable\":false,\"stateMutability\":\"nonpayable\",\"type\":\"function\"}],\"devdoc\":{\"methods\":{}},\"userdoc\":{\"methods\":{}}},\"settings\":{\"compilationTarget\":{\"SimpleStorage.sol\":\"SimpleStorage\"},\"evmVersion\":\"byzantium\",\"libraries\":{},\"optimizer\":{\"enabled\":false,\"runs\":200},\"remappings\":[]},\"sources\":{\"SimpleStorage.sol\":{\"keccak256\":\"0x7452fb138e894e49977c9e05c33cac86300cb3fa6d074e20a6a072c1cc873fdf\",\"urls\":[\"bzzr://b2944511eea34cbb11b82ef3fb8c7f7a694f835f680c8b06e5bcd2140955ff71\"]}},\"version\":1}',\n",
      "  userdoc: { methods: {} } }\n"
     ]
    }
   ],
   "source": [
    "console.log(output.contracts['SimpleStorage.sol'].SimpleStorage)"
   ]
  },
  {
   "cell_type": "code",
   "execution_count": 27,
   "metadata": {},
   "outputs": [
    {
     "name": "stdout",
     "output_type": "stream",
     "text": [
      "Accounts: [ '0x2b92db98cfa57e7335f188E41A49b3f8DB0D74dB',\n",
      "  '0x14C50D21815B12c112B4035C5e319535eD2786E2',\n",
      "  '0x622E221a19a950f493F7FD070D3B466d1C1B39Ae',\n",
      "  '0x551a0aAf053A223220f73fA05953539DB7b227a8',\n",
      "  '0x54E25D9B0321cF2F51679f45a82014A978797403',\n",
      "  '0xA35Cbff6008d1Ab76BaFd3ab7B99155B4c38b712',\n",
      "  '0xD5Ab847764bB072Da0A4EB34d720326E8ec81CB5',\n",
      "  '0x2B7C5AfB1C726F4249A79995559fe26dF0e7Fa1b',\n",
      "  '0x9f6782fA0843af85a589042e6f5f5e6765F96B6D',\n",
      "  '0xA8Da13cb9CaAbec3c86de5Ff310F4A4bb000aEb7' ]\n"
     ]
    }
   ],
   "source": [
    "var Web3 = require('web3')\n",
    "var web3 = new Web3('http://localhost:8545')\n",
    "var accounts\n",
    "web3.eth.getAccounts()\n",
    "    .then(_accounts => { \n",
    "        accounts = _accounts \n",
    "        console.log(\"Accounts:\", accounts) \n",
    "    })"
   ]
  },
  {
   "cell_type": "code",
   "execution_count": null,
   "metadata": {},
   "outputs": [],
   "source": [
    "var truffle"
   ]
  }
 ],
 "metadata": {
  "kernelspec": {
   "display_name": "Javascript (Node.js)",
   "language": "javascript",
   "name": "javascript"
  },
  "language_info": {
   "file_extension": ".js",
   "mimetype": "application/javascript",
   "name": "javascript",
   "version": "11.7.0"
  }
 },
 "nbformat": 4,
 "nbformat_minor": 2
}
